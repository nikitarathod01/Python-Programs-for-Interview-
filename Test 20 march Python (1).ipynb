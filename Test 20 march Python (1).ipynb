{
 "cells": [
  {
   "cell_type": "markdown",
   "id": "62a86b1b",
   "metadata": {},
   "source": [
    "# Que. 1 Write a Python program to check if a string is a palindrome?"
   ]
  },
  {
   "cell_type": "code",
   "execution_count": 13,
   "id": "1ec9e807",
   "metadata": {},
   "outputs": [
    {
     "name": "stdout",
     "output_type": "stream",
     "text": [
      "Enter string: 'Radar'\n",
      "''Radar'' is a palindrome.\n"
     ]
    }
   ],
   "source": [
    "def is_palindrome(s):\n",
    "    s = s.lower()  # Convert the string to lowercase\n",
    "    s = ''.join(e for e in s if e.isalnum())  # Remove non-alphanumeric characters\n",
    "    return s == s[::-1]  # Check if the string is equal to its reverse\n",
    "\n",
    "# Test the function\n",
    "input_string = input(\"Enter string: \")\n",
    "if is_palindrome(input_string):\n",
    "    print(f\"'{input_string}' is a palindrome.\")\n",
    "else:\n",
    "    print(f\"'{input_string}' is not a palindrome.\")\n"
   ]
  },
  {
   "cell_type": "markdown",
   "id": "703a780d",
   "metadata": {},
   "source": [
    "# Que. 2 Write a Python program to find the factorial of a number?"
   ]
  },
  {
   "cell_type": "code",
   "execution_count": 1,
   "id": "56868439",
   "metadata": {},
   "outputs": [
    {
     "name": "stdout",
     "output_type": "stream",
     "text": [
      "Enter a number: 9\n",
      "The factorial of 9 is 362880\n"
     ]
    }
   ],
   "source": [
    "def factorial(n):\n",
    "    if n == 0:\n",
    "        return 1\n",
    "    else:\n",
    "        return n * factorial(n-1)\n",
    "\n",
    "# Input from user\n",
    "num = int(input(\"Enter a number: \"))\n",
    "\n",
    "# Check if the number is negative\n",
    "if num < 0:\n",
    "    print(\"Factorial does not exist for negative numbers.\")\n",
    "elif num == 0:\n",
    "    print(\"The factorial of 0 is 1\")\n",
    "else:\n",
    "    print(\"The factorial of\", num, \"is\", factorial(num))"
   ]
  },
  {
   "cell_type": "markdown",
   "id": "33d1eda5",
   "metadata": {},
   "source": [
    "# Que. 3 Write a Python program to find the largest element in a list?"
   ]
  },
  {
   "cell_type": "code",
   "execution_count": 6,
   "id": "8432de31",
   "metadata": {},
   "outputs": [
    {
     "name": "stdout",
     "output_type": "stream",
     "text": [
      "Enter a list of numbers separated by commas: 12,14,15,78,16,19,76,28,43\n",
      "The largest element in the list is: 78\n"
     ]
    }
   ],
   "source": [
    "# Enter list from the user\n",
    "my_list = input(\"Enter a list of numbers separated by commas: \").split(\",\")\n",
    "\n",
    "# Convert the list elements to integers\n",
    "my_list = [int(i) for i in my_list]\n",
    "\n",
    "# Find the largest element in the list\n",
    "largest = max(my_list)\n",
    "\n",
    "# Print the largest element\n",
    "print(\"The largest element in the list is:\", largest)"
   ]
  },
  {
   "cell_type": "markdown",
   "id": "992deb3b",
   "metadata": {},
   "source": [
    "# Que. 4 Write a Python program to reverse a string?"
   ]
  },
  {
   "cell_type": "code",
   "execution_count": 7,
   "id": "7261eefd",
   "metadata": {},
   "outputs": [
    {
     "name": "stdout",
     "output_type": "stream",
     "text": [
      "Enter a string: Me neither!\n",
      "Reversed string: !rehtien eM\n"
     ]
    }
   ],
   "source": [
    "# Enter the string from the user\n",
    "user_input = input(\"Enter a string: \")\n",
    "\n",
    "# Reverse the string\n",
    "reversed_string = user_input[::-1]\n",
    "\n",
    "# Print the reversed string\n",
    "print(\"Reversed string:\", reversed_string)"
   ]
  },
  {
   "cell_type": "markdown",
   "id": "64d58c02",
   "metadata": {},
   "source": [
    "# Que. 5 Write a Python program to count the frequency of each element in a list?"
   ]
  },
  {
   "cell_type": "code",
   "execution_count": 11,
   "id": "60091cb4",
   "metadata": {},
   "outputs": [
    {
     "name": "stdout",
     "output_type": "stream",
     "text": [
      "Enter a list of elements separated by commas: 2,2,1,2,2\n",
      "Element frequencies:\n",
      "2: 4\n",
      "1: 1\n"
     ]
    }
   ],
   "source": [
    "# Get list from the user\n",
    "my_list = input(\"Enter a list of elements separated by commas: \").split(\",\")\n",
    "\n",
    "# Create a dictionary to store element frequencies\n",
    "element_freq = {}\n",
    "\n",
    "# Count the frequency of each element\n",
    "for element in my_list:\n",
    "    if element in element_freq:\n",
    "        element_freq[element] += 1\n",
    "    else:\n",
    "        element_freq[element] = 1\n",
    "\n",
    "# Print the frequency of each element\n",
    "print(\"Element frequencies:\")\n",
    "for key, value in element_freq.items():\n",
    "    print(f\"{key}: {value}\")"
   ]
  },
  {
   "cell_type": "markdown",
   "id": "0fb90aca",
   "metadata": {},
   "source": [
    "# Que. 6  Write a Python program to check if a number is prime? "
   ]
  },
  {
   "cell_type": "code",
   "execution_count": 14,
   "id": "fb0d0c04",
   "metadata": {},
   "outputs": [
    {
     "name": "stdout",
     "output_type": "stream",
     "text": [
      "Enter a number: 42\n",
      "42 is not a prime number.\n"
     ]
    }
   ],
   "source": [
    "def is_prime(num):\n",
    "    if num < 2:\n",
    "        return False\n",
    "    for i in range(2, int(num**0.5) + 1):\n",
    "        if num % i == 0:\n",
    "            return False\n",
    "    return True\n",
    "\n",
    "# Get number from user\n",
    "num = int(input(\"Enter a number: \"))\n",
    "\n",
    "# Check if the number is prime\n",
    "if is_prime(num):\n",
    "    print(num, \"is a prime number.\")\n",
    "else:\n",
    "    print(num, \"is not a prime number.\")"
   ]
  },
  {
   "cell_type": "markdown",
   "id": "7548904d",
   "metadata": {},
   "source": [
    "# Que. 7 Write a Python program to find the common elements between two lists?"
   ]
  },
  {
   "cell_type": "code",
   "execution_count": 18,
   "id": "de592769",
   "metadata": {},
   "outputs": [
    {
     "name": "stdout",
     "output_type": "stream",
     "text": [
      "Enter the first list of elements separated by commas: hey, hey, hi , hey\n",
      "Enter the second list of elements separated by commas: hey, hey, hello, hey\n",
      "Common elements: ['hey', ' hey']\n"
     ]
    }
   ],
   "source": [
    "# Enter the lists \n",
    "list1 = input(\"Enter the first list of elements separated by commas: \").split(\",\")\n",
    "list2 = input(\"Enter the second list of elements separated by commas: \").split(\",\")\n",
    "\n",
    "# Convert the input lists to sets \n",
    "set1 = set(list1)\n",
    "set2 = set(list2)\n",
    "\n",
    "# Find the common elements between the two sets\n",
    "common_elements = set1.intersection(set2)\n",
    "\n",
    "# Print the common elements\n",
    "print(\"Common elements:\", list(common_elements))"
   ]
  },
  {
   "cell_type": "markdown",
   "id": "7f91c406",
   "metadata": {},
   "source": [
    "# Que. 8 Write a Python program to sort a list of elements using the bubble sort algorithm?"
   ]
  },
  {
   "cell_type": "code",
   "execution_count": 21,
   "id": "d41611d1",
   "metadata": {},
   "outputs": [
    {
     "name": "stdout",
     "output_type": "stream",
     "text": [
      "Enter a list of elements separated by commas: 12,14,78,26,54,36,1,02,45\n",
      "Sorted list: [1, 2, 12, 14, 26, 36, 45, 54, 78]\n"
     ]
    }
   ],
   "source": [
    "def bubble_sort(arr):\n",
    "    n = len(arr)\n",
    "    for i in range(n):\n",
    "        for j in range(0, n-i-1):\n",
    "            if arr[j] > arr[j+1]:\n",
    "                arr[j], arr[j+1] = arr[j+1], arr[j]\n",
    "\n",
    "# Enter the list \n",
    "user_input = input(\"Enter a list of elements separated by commas: \")\n",
    "my_list = [int(x) for x in user_input.split(\",\")]\n",
    "\n",
    "# Sort the list using Bubble Sort\n",
    "bubble_sort(my_list)\n",
    "\n",
    "# Print the sorted list\n",
    "print(\"Sorted list:\", my_list)"
   ]
  },
  {
   "cell_type": "markdown",
   "id": "3f3ebfc0",
   "metadata": {},
   "source": [
    "# Que. 9 Write a Python program to find the second largest number in a list?"
   ]
  },
  {
   "cell_type": "code",
   "execution_count": 24,
   "id": "cd748f12",
   "metadata": {},
   "outputs": [
    {
     "name": "stdout",
     "output_type": "stream",
     "text": [
      "Enter a list of numbers separated by commas: 12,36,45,78,19,20\n",
      "The second largest number in the list is: 45\n"
     ]
    }
   ],
   "source": [
    "# Get the list\n",
    "user_input = input(\"Enter a list of numbers separated by commas: \")\n",
    "my_list = [int(x) for x in user_input.split(\",\")]\n",
    "\n",
    "# Find the second largest number\n",
    "def find_second_largest(arr):\n",
    "    if len(arr) < 2:\n",
    "        return \"List should have at least two elements\"\n",
    "    \n",
    "    max_num = max(arr[0], arr[1])\n",
    "    second_max = min(arr[0], arr[1])\n",
    "\n",
    "    for i in range(2, len(arr)):\n",
    "        if arr[i] > max_num:\n",
    "            second_max = max_num\n",
    "            max_num = arr[i]\n",
    "        elif arr[i] > second_max and arr[i] != max_num:\n",
    "            second_max = arr[i]\n",
    "\n",
    "    return second_max\n",
    "\n",
    "# Get the second largest number\n",
    "second_largest = find_second_largest(my_list)\n",
    "\n",
    "# Print the second largest number\n",
    "print(\"The second largest number in the list is:\", second_largest)"
   ]
  },
  {
   "cell_type": "markdown",
   "id": "e848c82c",
   "metadata": {},
   "source": [
    "# Que. 10 Write a Python program to remove duplicates from a list?"
   ]
  },
  {
   "cell_type": "code",
   "execution_count": 25,
   "id": "4d6fed3d",
   "metadata": {},
   "outputs": [
    {
     "name": "stdout",
     "output_type": "stream",
     "text": [
      "Enter a list of elements separated by commas: 12,04,01,36,78,16,01,79,01,60,01\n",
      "List without duplicates: ['01', '04', '78', '12', '36', '60', '79', '16']\n"
     ]
    }
   ],
   "source": [
    "# ENter the list \n",
    "user_input = input(\"Enter a list of elements separated by commas: \")\n",
    "my_list = user_input.split(\",\")\n",
    "\n",
    "# Remove duplicates from the list\n",
    "unique_list = list(set(my_list))\n",
    "\n",
    "# Print the list without duplicates\n",
    "print(\"List without duplicates:\", unique_list)"
   ]
  },
  {
   "cell_type": "markdown",
   "id": "e249337e",
   "metadata": {},
   "source": [
    "# Que. 11 What is Python?How do you comment in Python?"
   ]
  },
  {
   "cell_type": "raw",
   "id": "0c7342d6",
   "metadata": {},
   "source": [
    "Python is a high-level, interpreted programming language known for its simplicity and readability. It emphasizes code readability and uses indentation to define code blocks, making it easy to learn and use. Python supports multiple programming paradigms, including procedural, object-oriented, and functional programming.\n",
    "\n",
    "# COMMENTS IN PYTHON\n",
    "In Python, comments are used to explain the code and are not executed by the interpreter. They help make the code more understandable for developers. There are two ways to add comments in Python:\n",
    "1. Single-line comments:\n",
    "   Single-line comments start with a hash symbol # and continue until the end of the line.\n",
    "   \n",
    "2. Multi-line comments:\n",
    "   Python does not have a specific syntax for multi-line comments, but you can use triple quotes ''' or \"\"\" to create multi-line    strings that are not assigned to any variable."
   ]
  },
  {
   "cell_type": "markdown",
   "id": "8559f2b8",
   "metadata": {},
   "source": [
    "# Que. 12 What are the key features of Python?"
   ]
  },
  {
   "cell_type": "raw",
   "id": "0eca972f",
   "metadata": {},
   "source": [
    "1.Easy to Learn and Readable Language: Python is designed for readability and ease of learning, making it accessible for beginners and experienced developers alike\n",
    "\n",
    "2. Interpreted Language: Python is an interpreted language, allowing code to be executed line by line without the need for compilation\n",
    "\n",
    "3. Dynamically Typed Language: Python is dynamically typed, meaning variable types are determined at runtime, enhancing    flexibility and development speed\n",
    "\n",
    "4. Open Source and Free: Python is open-source and freely available, enabling developers to modify and redistribute it without cost\n",
    "\n",
    "5. Large Standard Library: Python offers an extensive standard library with modules for various functionalities, reducing the need for writing code from scratch\n",
    "\n",
    "6. High-Level Language: Python is a high-level language that abstracts system architecture and memory management, simplifying programming tasks"
   ]
  },
  {
   "cell_type": "markdown",
   "id": "ac308d37",
   "metadata": {},
   "source": [
    "# Que. 13  Explain the difference between a list and a tuple?What is the purpose of the ‘self’ parameter in Python?"
   ]
  },
  {
   "cell_type": "raw",
   "id": "ce6a8a0b",
   "metadata": {},
   "source": [
    "There are many differences between the list and tuple incase of mutability, syntax, performance, usage, memory efficiency, methods, iteration.\n",
    "1. Mutability:\n",
    "   List: Lists are mutable, meaning their elements can be changed, added, or removed after creation.\n",
    "   Tuple: Tuples are immutable, meaning once they are created, their elements cannot be changed.\n",
    "2. Syntax:\n",
    "   List: Lists are defined using square brackets [].\n",
    "   Tuple: Tuples are defined using parentheses ().\n",
    "3. Performance:\n",
    "   List: Lists are slower than tuples due to their mutability.\n",
    "   Tuple: Tuples are faster than lists because of their immutability.\n",
    "4. Usage:\n",
    "   List: Lists are used when the collection of elements needs to be modified or updated.\n",
    "   Tuple: Tuples are used when the collection of elements is fixed and should not change.\n",
    "5. Memory Efficiency:\n",
    "   List: Lists consume more memory compared to tuples due to their dynamic nature.\n",
    "   Tuple: Tuples consume less memory compared to lists because of their fixed nature.\n",
    "6. Methods:\n",
    "   List: Lists have more built-in methods for manipulation like append, extend, remove, etc.\n",
    "   Tuple: Tuples have fewer methods since they are immutable and do not support operations that modify the tuple.\n",
    "7. Iteration:\n",
    "   List: Lists are typically used for collections where iteration and modification of elements are required.\n",
    "   Tuple: Tuples are suitable for heterogeneous data and situations where data integrity is important.\n",
    "   \n",
    "  The 'self' parameter in Python is used to represent the instance of a class that is currently being used. It allows access to the attributes and methods of the class, binding them with the given arguments. In Python, 'self' is not a keyword but a convention used in instance methods to refer to the instance itself. It is explicitly defined every time a method is defined in a class.\n",
    "  \n",
    " The purpose of 'self' is to differentiate between instance attributes and methods and local variables within a class. By using 'self', each object created from a class can have its own set of attributes and methods, ensuring that the class blueprint can hold unique information for each object created from it."
   ]
  },
  {
   "cell_type": "markdown",
   "id": "bfc99cf0",
   "metadata": {},
   "source": [
    "# Que. 14 What is a module in Python?"
   ]
  },
  {
   "cell_type": "raw",
   "id": "6b9df8ba",
   "metadata": {},
   "source": [
    "A module in Python is a file that contains Python definitions, functions, classes, and variables. It serves as a code library where developers can organize related code into separate files for better organization and reusability. Modules play a crucial role in modular programming by breaking down large programming tasks into smaller, more manageable subtasks or modules. By structuring code into modules, developers can focus on specific parts of a problem, enhance maintainability, promote reusability, and avoid naming conflicts through separate namespaces.\n",
    "\n",
    "To create a module in Python, developers write the desired code and save it in a file with a .py extension. Modules can include functions, classes, variables, and even runnable code. These modules can then be imported into other Python scripts using the import statement, allowing access to the functions and classes defined within the module. Additionally, Python supports the concept of packages, which are a way of structuring the module namespace using dotted module names to create a hierarchical organization of related modules. Basically modules in Python are essential components that facilitate code organization, reusability, and maintainability by grouping related code together in separate files, promoting a modular approach to programming."
   ]
  },
  {
   "cell_type": "markdown",
   "id": "7df64916",
   "metadata": {},
   "source": [
    "# Que. 15  How do you handle exceptions in Python?"
   ]
  },
  {
   "cell_type": "raw",
   "id": "6c6ffa38",
   "metadata": {},
   "source": [
    "Handling Exceptions in Python:\n",
    "In Python, handling exceptions is crucial for managing errors and ensuring the smooth execution of programs. Here is an overview of how exceptions are handled in Python:\n",
    "1. Try-Except Block:\n",
    "The try block is used to test a block of code for errors.\n",
    "The except block is used to handle the error that occurs in the try block.\n",
    "If an exception occurs in the try block, the program jumps to the except block to handle the error.\n",
    "The except block can handle specific types of exceptions or a generic exception.\n",
    "\n",
    "2. Multiple Except Blocks:\n",
    "For each try block, there can be multiple except blocks to handle different types of exceptions.\n",
    "This allows developers to handle various exceptions differently based on the type of error encountered.\n",
    "\n",
    "3. Else Clause:\n",
    "The else keyword can be used to define a block of code that runs only if no errors were raised in the try block.\n",
    "It is useful for executing code that should run when no exceptions occur.\n",
    "\n",
    "4. Finally Block:\n",
    "The finally block is always executed, regardless of whether an exception is raised or not.\n",
    "It is used for cleaning up resources or closing objects that need to be executed regardless of exceptions.\n",
    "\n",
    "5.Raising Exceptions:\n",
    "Developers can raise exceptions using the raise keyword to indicate specific conditions that should trigger an error.\n",
    "Custom exceptions can be raised with specific error messages to handle unique situations.\n",
    "\n",
    "6. Exception Types:\n",
    "Python has various built-in exception types like SyntaxError, TypeError, NameError, IndexError, ValueError, etc., each serving a specific purpose.\n",
    "Handling these exceptions appropriately ensures proper error management in Python programs."
   ]
  },
  {
   "cell_type": "markdown",
   "id": "8cd542c5",
   "metadata": {},
   "source": [
    "# Que. 16 What is the purpose of the ‘if name == “main”’ statement?"
   ]
  },
  {
   "cell_type": "raw",
   "id": "b3891606",
   "metadata": {},
   "source": [
    "The 'if name == \"main\"' statement in Python serves as a conditional block that allows a Python file to be both imported as a module and run as a standalone script. When a Python file is executed directly, the name variable is set to \"main,\" enabling the code within the 'if name == \"main\"' block to run.\n",
    "\n",
    "However, if the file is imported as a module, the name variable is set to the name of the module, preventing the code inside the 'if' block from executing. This construct promotes modularity, reusability, and helps differentiate between when a file is the main program or being imported as a module."
   ]
  },
  {
   "cell_type": "markdown",
   "id": "cb8314fa",
   "metadata": {},
   "source": [
    "# Que. 17 Explain the difference between ‘append()’ and ‘extend()’ methods for lists?"
   ]
  },
  {
   "cell_type": "raw",
   "id": "4e5495fb",
   "metadata": {},
   "source": [
    "The 'append()' and 'extend()' methods in Python are used to add elements to a list, but they differ in how they add these elements:\n",
    "1. append(): The 'append()' method is used to add a single element to the end of a list. It takes one argument, which is the element to be added. When 'append()' is used, the entire element is added as a single item at the end of the list.\n",
    "\n",
    "2. extend(): On the other hand, the 'extend()' method is used to add multiple elements to the end of a list. It takes an iterable (like a list, tuple, or string) as its argument and adds each element of the iterable to the list individually. This means that if you use 'extend()' with a list, each element of that list will be added to the original list.\n",
    "\n",
    "Basically, 'append()' adds a single element to the end of a list, while 'extend()' adds multiple elements from an iterable to the end of a list, adding each element individually."
   ]
  },
  {
   "cell_type": "markdown",
   "id": "1c39049b",
   "metadata": {},
   "source": [
    "# Que. 18 What is the ‘str’ function used for in Python?"
   ]
  },
  {
   "cell_type": "raw",
   "id": "9ba83f99",
   "metadata": {},
   "source": [
    "The 'str' function in Python is used to convert a value into a string. It can convert various types of data, such as integers, floats, and booleans, into a string representation. \n",
    "\n",
    "This function is particularly useful when you need to concatenate strings with other data types or when you want to display non-string data as a string. By using the 'str' function, you can easily manipulate and work with different types of data as strings in Python."
   ]
  },
  {
   "cell_type": "markdown",
   "id": "ed059a1c",
   "metadata": {},
   "source": [
    "# Que. 19 Explain the difference between mutable and immutable data types in Python?"
   ]
  },
  {
   "cell_type": "raw",
   "id": "3fefcdac",
   "metadata": {},
   "source": [
    "In Python, mutable and immutable data types differ in how their values can be changed after creation:\n",
    "\n",
    "1. Immutable Data Types: Immutable data types, once created, cannot be modified. Any attempt to change their value results in the creation of a new object. Examples of immutable data types in Python include numbers (int, float, complex), strings, and tuples. For instance, modifying a string or tuple creates a new object with the updated value.\n",
    "\n",
    "2. Mutable Data Types: In contrast, mutable data types can be modified after creation. Changes to mutable objects do not create new objects; instead, they update the existing object. Common mutable data types in Python include lists, dictionaries, and sets. For example, adding or removing elements from a list directly modifies the original list without creating a new one.\n",
    "Understanding the distinction between mutable and immutable data types is crucial as it impacts how variables are stored, passed, and modified in Python.\n",
    "\n",
    "Immutable data types ensure data consistency and are suitable for scenarios where values should not change, like using them as keys in dictionaries or elements in sets. On the other hand, mutable data types offer flexibility for modifying data structures without creating new objects\n"
   ]
  },
  {
   "cell_type": "markdown",
   "id": "26e4e53f",
   "metadata": {},
   "source": [
    "# Que. 20 How do you perform a shallow copy and a deep copy of a list in Python?"
   ]
  },
  {
   "cell_type": "raw",
   "id": "91d3598e",
   "metadata": {},
   "source": [
    "Shallow Copy: To create a shallow copy of a list, you can use the copy() method from the copy module. This method creates a new object that references the same inner objects as the original list, sharing data references. Changes to inner objects affect all references, but changes to top-level objects may not. Here is an example:"
   ]
  },
  {
   "cell_type": "code",
   "execution_count": 2,
   "id": "4b50499c",
   "metadata": {},
   "outputs": [
    {
     "name": "stdout",
     "output_type": "stream",
     "text": [
      "[[1, 2, 3], [4, 5, 6], [7, 8, 9]]\n"
     ]
    }
   ],
   "source": [
    "import copy\n",
    "old_list = [[1, 2, 3], [4, 5, 6], [7, 8, 9]]\n",
    "new_list = copy.copy(old_list)\n",
    "print(new_list)"
   ]
  },
  {
   "cell_type": "raw",
   "id": "1f38dc87",
   "metadata": {},
   "source": [
    "Deep Copy: For a deep copy that creates a completely independent copy of both the list and its data, you can use the deepcopy() function from the copy module. This function ensures that changes in one object do not affect others. Here is an example:"
   ]
  },
  {
   "cell_type": "code",
   "execution_count": 3,
   "id": "e0b0df49",
   "metadata": {},
   "outputs": [
    {
     "name": "stdout",
     "output_type": "stream",
     "text": [
      "[[1, 2, 3], [4, 5, 6], [7, 8, 9]]\n"
     ]
    }
   ],
   "source": [
    "import copy\n",
    "old_list = [[1, 2, 3], [4, 5, 6], [7, 8, 9]]\n",
    "new_list = copy.deepcopy(old_list)\n",
    "print(new_list)"
   ]
  },
  {
   "cell_type": "raw",
   "id": "d784b3ff",
   "metadata": {},
   "source": [
    "Performing a shallow copy with copy.copy() creates a new object that references the same inner objects as the original list. On the other hand, using copy.deepcopy() for a deep copy ensures complete data isolation by creating an independent copy of both the list and its elements."
   ]
  },
  {
   "cell_type": "markdown",
   "id": "0dc885d6",
   "metadata": {},
   "source": [
    "# Que. 21 What is a decorator in Python?Explain the difference between ‘==’, ‘is’, and ‘in’ operators."
   ]
  },
  {
   "cell_type": "raw",
   "id": "a92cd88a",
   "metadata": {},
   "source": [
    "Decorator in Python:\n",
    "In Python, a decorator is a design pattern that allows you to modify the functionality of a function by wrapping it in another function. The decorator function takes the original function as an argument and returns a modified version of it. \n",
    "This pattern enables adding new functionality to an existing object without altering its structure. Decorators are implemented by defining a function that wraps the original function, adding extra behavior, and then returning the wrapped function. \n",
    "By using decorators, you can enhance the behavior of functions without changing their code directly.\n",
    "\n",
    "Difference between '==', 'is', and 'in' Operators:\n",
    "\n",
    "1. '==' Operator: The '==' operator in Python is the equality operator used to compare the values of two objects. It calls the                     '__eq__'() method of the objects to determine if they have the same value. When comparing with '==', objects                     are considered equal if they have the same value.\n",
    "\n",
    "2. 'is' Operator: The 'is' operator in Python is the identity operator used to compare the identities of two objects. It checks                   if two variables point to the exact same object in memory. The 'is' operator returns True if the variables                       reference the same object and False otherwise.\n",
    "\n",
    "3. 'in' Operator: The 'in' operator in Python is used to check if a value exists in a sequence (like a list, tuple, or string).                   It returns True if the value is present in the sequence and False if it is not. The 'in' operator is                             particularly useful for checking membership in collections.\n",
    "\n",
    "Basically , the '==' operator compares the values of objects, the 'is' operator compares the identities of objects, and the 'in' operator checks for membership in a sequence.\n"
   ]
  },
  {
   "cell_type": "markdown",
   "id": "11ff4170",
   "metadata": {},
   "source": [
    "# Que. 22 How can you convert a string to an integer in Python?"
   ]
  },
  {
   "cell_type": "raw",
   "id": "4f1d8528",
   "metadata": {},
   "source": [
    "Using int() Function: The most common method is to use the built-in int() function. This function takes a string as input and returns an integer as output. For example:"
   ]
  },
  {
   "cell_type": "code",
   "execution_count": 5,
   "id": "fa40dab0",
   "metadata": {},
   "outputs": [
    {
     "name": "stdout",
     "output_type": "stream",
     "text": [
      "123\n"
     ]
    },
    {
     "data": {
      "text/plain": [
       "int"
      ]
     },
     "execution_count": 5,
     "metadata": {},
     "output_type": "execute_result"
    }
   ],
   "source": [
    "string_num = \"123\"\n",
    "integer_num = int(string_num)\n",
    "print(integer_num)\n",
    "type(integer_num)"
   ]
  },
  {
   "cell_type": "markdown",
   "id": "339339eb",
   "metadata": {},
   "source": [
    "# Que. 23 What is the purpose of the ‘pass’ statement in Python?"
   ]
  },
  {
   "cell_type": "raw",
   "id": "2417e164",
   "metadata": {},
   "source": [
    "The 'pass' statement in Python is a null operation that does nothing when it is executed. It is used as a placeholder where Python syntax requires a statement but no action is needed. The 'pass' statement is often used as a placeholder for future code, to define empty classes, functions, or loops that need to be implemented later.\n",
    "\n",
    "It allows the code to pass without causing any errors or issues during execution. Essentially, 'pass' is a way to keep the code syntactically correct while not adding any functionality at that point in the program."
   ]
  },
  {
   "cell_type": "markdown",
   "id": "70c9c8f1",
   "metadata": {},
   "source": [
    "# Que. 24 What is the purpose of the ‘range()’ function?"
   ]
  },
  {
   "cell_type": "raw",
   "id": "e86245e9",
   "metadata": {},
   "source": [
    "The 'range()' function in Python is used to generate a sequence of numbers. It creates a range object that represents a sequence of numbers between a specified start, stop, and step size. This function is commonly used in for loops to iterate over a sequence of numbers.\n",
    "\n",
    "The 'range()' function is versatile and allows you to generate sequences of numbers efficiently without having to store them in memory. By using 'range()', you can easily create sequences of integers for various purposes like iterating through lists, performing mathematical operations, or generating indices for data structures."
   ]
  },
  {
   "cell_type": "code",
   "execution_count": 6,
   "id": "1bebef4b",
   "metadata": {},
   "outputs": [
    {
     "name": "stdout",
     "output_type": "stream",
     "text": [
      "0\n",
      "1\n",
      "2\n",
      "3\n",
      "4\n",
      "5\n",
      "6\n",
      "7\n",
      "8\n",
      "9\n"
     ]
    }
   ],
   "source": [
    "# Example\n",
    "# Generating a sequence of numbers from 0 to 9\n",
    "for i in range(10):\n",
    "    print(i)"
   ]
  },
  {
   "cell_type": "markdown",
   "id": "523e809d",
   "metadata": {},
   "source": [
    "# Que. 25 What is a lambda function?"
   ]
  },
  {
   "cell_type": "raw",
   "id": "9b9ebd74",
   "metadata": {},
   "source": [
    "A lambda function in Python is an anonymous function that does not have a name. It is defined using the lambda keyword and can take any number of arguments but evaluates and returns only one expression. \n",
    "Lambda functions are commonly used for short, simple operations where defining a full function is unnecessary. Here is an example to illustrate a lambda function in Python:"
   ]
  },
  {
   "cell_type": "code",
   "execution_count": 7,
   "id": "33f1b4ae",
   "metadata": {},
   "outputs": [
    {
     "name": "stdout",
     "output_type": "stream",
     "text": [
      "8\n"
     ]
    }
   ],
   "source": [
    "# Creating a lambda function to add two numbers\n",
    "add_numbers = lambda x, y: x + y\n",
    "\n",
    "# Calling the lambda function\n",
    "result = add_numbers(3, 5)\n",
    "print(result)  "
   ]
  },
  {
   "cell_type": "raw",
   "id": "e7aaffdb",
   "metadata": {},
   "source": [
    "n this example, the lambda function add_numbers takes two arguments x and y and returns their sum. The lambda function is then called with arguments 3 and 5, resulting in the output 8. Lambda functions are useful for creating quick, simple functions without the need for a full function definition."
   ]
  },
  {
   "cell_type": "markdown",
   "id": "ff9e335a",
   "metadata": {},
   "source": [
    "# Que. 26 Explain indexing and slicing in Python?"
   ]
  },
  {
   "cell_type": "raw",
   "id": "5025744e",
   "metadata": {},
   "source": [
    "1. Indexing in Python:\n",
    "Indexing in Python refers to accessing elements in a sequence, such as a list, tuple, or string, using their position (index) within the sequence.\n",
    "\n",
    "In Python, indexing starts from 0, meaning the first element in a sequence is at position 0, the second element at position 1, and so on. You can access elements in a sequence by using square brackets [] with the index of the element you want to retrieve. Here is an example illustrating indexing in Python:"
   ]
  },
  {
   "cell_type": "code",
   "execution_count": 8,
   "id": "b970f59b",
   "metadata": {},
   "outputs": [
    {
     "name": "stdout",
     "output_type": "stream",
     "text": [
      "apple\n",
      "cherry\n"
     ]
    }
   ],
   "source": [
    "# Accessing elements in a list using indexing\n",
    "my_list = ['apple', 'banana', 'cherry', 'date']\n",
    "print(my_list[0])  \n",
    "print(my_list[2])  "
   ]
  },
  {
   "cell_type": "raw",
   "id": "d9b4361c",
   "metadata": {},
   "source": [
    "2. Slicing in Python:\n",
    "Slicing in Python involves extracting a sub-sequence of elements from a sequence by specifying a starting and ending index. It is done using the colon : operator. \n",
    "\n",
    "The syntax for slicing is sequence[start_index:end_index], where the start_index is inclusive, and the end_index is exclusive. Here is an example demonstrating slicing in Python:"
   ]
  },
  {
   "cell_type": "code",
   "execution_count": 9,
   "id": "1da4bdb4",
   "metadata": {},
   "outputs": [
    {
     "name": "stdout",
     "output_type": "stream",
     "text": [
      "['banana', 'cherry']\n"
     ]
    }
   ],
   "source": [
    "# Slicing a list to extract a sub-sequence\n",
    "my_list = ['apple', 'banana', 'cherry', 'date']\n",
    "print(my_list[1:3])  "
   ]
  },
  {
   "cell_type": "markdown",
   "id": "37678d52",
   "metadata": {},
   "source": [
    "# Que. 27 How can you reverse a list in Python?"
   ]
  },
  {
   "cell_type": "raw",
   "id": "e7aa09e4",
   "metadata": {},
   "source": [
    "To reverse a list in Python, you can use the reverse() method or the slicing technique [::-1]. Here's how you can achieve list reversal using both methods:\n",
    "\n",
    "1. Using the reverse() Method:\n",
    "You can reverse a list in Python using the reverse() method, which directly modifies the original list. Here is an example demonstrating how to reverse a list using the reverse() method:"
   ]
  },
  {
   "cell_type": "code",
   "execution_count": 10,
   "id": "bea9ce97",
   "metadata": {},
   "outputs": [
    {
     "name": "stdout",
     "output_type": "stream",
     "text": [
      "[5, 4, 3, 2, 1]\n"
     ]
    }
   ],
   "source": [
    "# Reversing a list using the reverse() method\n",
    "my_list = [1, 2, 3, 4, 5]\n",
    "my_list.reverse()\n",
    "print(my_list)  "
   ]
  },
  {
   "cell_type": "raw",
   "id": "37e9922b",
   "metadata": {},
   "source": [
    "2. Using Slicing Technique [::-1]:\n",
    "Another way to reverse a list is by utilizing slicing with a step of -1. This creates a new reversed list without modifying the original one. Here is an example illustrating list reversal using slicing:"
   ]
  },
  {
   "cell_type": "code",
   "execution_count": 11,
   "id": "de0cb5bf",
   "metadata": {},
   "outputs": [
    {
     "name": "stdout",
     "output_type": "stream",
     "text": [
      "Original list: [1, 2, 3, 4, 5]\n",
      "Reversed list: [5, 4, 3, 2, 1]\n"
     ]
    }
   ],
   "source": [
    "#using slicing technique\n",
    "my_list = [1, 2, 3, 4, 5]\n",
    "reversed_list = my_list[::-1]\n",
    "print('Original list:', my_list)\n",
    "print('Reversed list:', reversed_list)"
   ]
  },
  {
   "cell_type": "markdown",
   "id": "07babf36",
   "metadata": {},
   "source": [
    "# Que. 28 What is the difference between ‘pop()’ and ‘remove()’ methods for lists?"
   ]
  },
  {
   "cell_type": "raw",
   "id": "800156c7",
   "metadata": {},
   "source": [
    "1. pop() Method:\n",
    "The pop() method in Python is used to remove and return an element from a specific index in a list. It modifies the original list by removing the element at the specified index and returning that element.\n",
    "## Syntax: list_name.pop(index)"
   ]
  },
  {
   "cell_type": "code",
   "execution_count": 12,
   "id": "d84bcf4e",
   "metadata": {},
   "outputs": [
    {
     "name": "stdout",
     "output_type": "stream",
     "text": [
      "Removed Element: 3\n",
      "Updated List: [1, 2, 4, 5]\n"
     ]
    }
   ],
   "source": [
    "# Example \n",
    "# Using pop() method to remove and return an element from a list\n",
    "my_list = [1, 2, 3, 4, 5]\n",
    "removed_element = my_list.pop(2)\n",
    "print('Removed Element:', removed_element)  \n",
    "print('Updated List:', my_list)  "
   ]
  },
  {
   "cell_type": "raw",
   "id": "23b54e18",
   "metadata": {},
   "source": [
    "2. remove() Method:\n",
    "The remove() method in Python is used to remove the first occurrence of a specified value from a list. It modifies the original list by deleting the first occurrence of the specified value.\n",
    "## Syntax: list_name.remove(value)"
   ]
  },
  {
   "cell_type": "code",
   "execution_count": 13,
   "id": "690a8f0e",
   "metadata": {},
   "outputs": [
    {
     "name": "stdout",
     "output_type": "stream",
     "text": [
      "Updated List: [1, 2, 4, 3, 5]\n"
     ]
    }
   ],
   "source": [
    "# Example \n",
    "# Using remove() method to delete the first occurrence of a value from a list\n",
    "my_list = [1, 2, 3, 4, 3, 5]\n",
    "my_list.remove(3)\n",
    "print('Updated List:', my_list)  "
   ]
  },
  {
   "cell_type": "raw",
   "id": "97a648d9",
   "metadata": {},
   "source": [
    "Basically , the key difference between pop() and remove() methods is that pop() removes an element based on its index and returns that element, while remove() deletes the first occurrence of a specified value from the list without returning it. \n",
    "Both methods modify the original list but serve different purposes in terms of element removal."
   ]
  },
  {
   "cell_type": "markdown",
   "id": "b91c95a8",
   "metadata": {},
   "source": [
    "# Que. 29 What is a set in Python?Difference between frozenset and Normal Set ?"
   ]
  },
  {
   "cell_type": "raw",
   "id": "58caadf9",
   "metadata": {},
   "source": [
    "1. Set in Python:\n",
    "A set in Python is an unordered collection data type that is iterable, mutable, and does not allow duplicate elements. Sets are represented by curly braces {} and are highly optimized for checking whether a specific element is contained in the set.\n",
    "\n",
    "Unlike lists, sets do not support indexing due to their unordered nature. Sets can store a variety of data types, including heterogeneous elements like strings, integers, and booleans. Here is an example illustrating the characteristics of sets in Python:"
   ]
  },
  {
   "cell_type": "code",
   "execution_count": 14,
   "id": "c15971e4",
   "metadata": {},
   "outputs": [
    {
     "name": "stdout",
     "output_type": "stream",
     "text": [
      "{'banana', 'cherry', 'apple'}\n"
     ]
    }
   ],
   "source": [
    "# Example \n",
    "# Example of Python Sets\n",
    "my_set = {\"apple\", \"banana\", \"cherry\"}\n",
    "print(my_set) "
   ]
  },
  {
   "cell_type": "raw",
   "id": "b0516beb",
   "metadata": {},
   "source": [
    "Difference Between Frozenset and Normal Set:\n",
    "\n",
    "1. Normal Set:\n",
    "Normal sets in Python are mutable collections that allow for the addition and removal of elements. They are represented by curly braces {} and support operations like adding elements using the add() method and updating the set with items from other collections using the update() method.\n",
    "\n",
    "2. Frozenset:\n",
    "Frozensets in Python are immutable objects that do not allow modifications after creation. They are created using the frozenset() method and are useful when you need a set that remains constant and does not change. Frozensets do not support methods that modify the set, ensuring the set's elements remain unchanged.\n",
    "\n",
    "Basically , the key difference between a normal set and a frozenset lies in their mutability; normal sets can be modified, while frozensets are immutable and do not allow changes after creation."
   ]
  },
  {
   "cell_type": "markdown",
   "id": "15c73878",
   "metadata": {},
   "source": [
    "# Que. 30 What is a dictionary comprehension in Python?"
   ]
  },
  {
   "cell_type": "raw",
   "id": "810fbee1",
   "metadata": {},
   "source": [
    "Dictionary Comprehension in Python:\n",
    "\n",
    "Dictionary comprehension in Python is a concise and elegant way to create dictionaries. It allows for the creation of dictionaries using a compact syntax, making the code more readable and efficient. The syntax for dictionary comprehension is {key: value for vars in iterable}, where key and value represent the key-value pairs to be included in the dictionary, vars is the variable used to iterate over an iterable, and iterable is the collection of elements to iterate over."
   ]
  },
  {
   "cell_type": "code",
   "execution_count": 15,
   "id": "568eb83d",
   "metadata": {},
   "outputs": [
    {
     "name": "stdout",
     "output_type": "stream",
     "text": [
      "{1: 1, 2: 4, 3: 9, 4: 16, 5: 25, 6: 36, 7: 49, 8: 64, 9: 81, 10: 100}\n"
     ]
    }
   ],
   "source": [
    "# Example \n",
    "square_dict = {num: num*num for num in range(1, 11)}\n",
    "print(square_dict)"
   ]
  },
  {
   "cell_type": "raw",
   "id": "c208bd4b",
   "metadata": {},
   "source": [
    "In the example, a dictionary square_dict is created using dictionary comprehension to store the squares of numbers from 1 to 10.\n",
    "Dictionary comprehension is a powerful feature in Python that enhances code readability and conciseness, especially when creating dictionaries from existing data or performing transformations on elements within the dictionary."
   ]
  },
  {
   "cell_type": "markdown",
   "id": "3b3a79d6",
   "metadata": {},
   "source": [
    "# Que. 31 How can you convert a list of strings to a single string in Python?"
   ]
  },
  {
   "cell_type": "raw",
   "id": "1a8dc810",
   "metadata": {},
   "source": [
    "To convert a list of strings into a single string in Python, you can use the join() method. The join() method is applied to a separator string and takes a list of strings as its argument, concatenating them into a single string with the separator in between each element. Here is an example demonstrating how to convert a list of strings to a single string using the join() method:"
   ]
  },
  {
   "cell_type": "code",
   "execution_count": 18,
   "id": "32cfeab0",
   "metadata": {},
   "outputs": [
    {
     "name": "stdout",
     "output_type": "stream",
     "text": [
      "Hello World its me!\n"
     ]
    }
   ],
   "source": [
    "# Example of Converting a list of strings to a single string using the join() method\n",
    "string_list = ['Hello', 'World', 'its me!' ]\n",
    "single_string = ' '.join(string_list)\n",
    "print(single_string) "
   ]
  },
  {
   "cell_type": "markdown",
   "id": "73713779",
   "metadata": {},
   "source": [
    "# Que. 32 How can you find the length of a string in Python?"
   ]
  },
  {
   "cell_type": "raw",
   "id": "0be9abcb",
   "metadata": {},
   "source": [
    "To find the length of a string in Python, you can use the len() function. The len() function returns the number of characters in a string. Here is an example illustrating how to find the length of a string in Python:"
   ]
  },
  {
   "cell_type": "code",
   "execution_count": 19,
   "id": "b903aaa1",
   "metadata": {},
   "outputs": [
    {
     "name": "stdout",
     "output_type": "stream",
     "text": [
      "Enter your string: Hey, hello it's me Nikita!!\n",
      "27\n"
     ]
    }
   ],
   "source": [
    "# Example \n",
    "# Finding the length of a string in Python using the len() function.\n",
    "my_string = str(input(\"Enter your string: \"))\n",
    "length = len(my_string)\n",
    "print(length)  "
   ]
  },
  {
   "cell_type": "markdown",
   "id": "b16128ce",
   "metadata": {},
   "source": [
    "# Que. 33 How can you convert a string to uppercase and lowercase in Python?"
   ]
  },
  {
   "cell_type": "raw",
   "id": "eced19ea",
   "metadata": {},
   "source": [
    "Converting a String to Uppercase and Lowercase in Python:\n",
    "To convert a string to uppercase or lowercase in Python, you can use the upper() and lower() string methods, respectively. These methods return a new string with all characters converted to uppercase or lowercase."
   ]
  },
  {
   "cell_type": "code",
   "execution_count": 20,
   "id": "a05e5ba1",
   "metadata": {},
   "outputs": [
    {
     "name": "stdout",
     "output_type": "stream",
     "text": [
      "Enter your string: hey, what's up..\n",
      "HEY, WHAT'S UP..\n"
     ]
    }
   ],
   "source": [
    "# Example of Converting a String to Uppercase:\n",
    "\n",
    "my_string = str(input(\"Enter your string: \"))\n",
    "uppercase_string = my_string.upper()\n",
    "print(uppercase_string)  "
   ]
  },
  {
   "cell_type": "code",
   "execution_count": 21,
   "id": "802da0ec",
   "metadata": {},
   "outputs": [
    {
     "name": "stdout",
     "output_type": "stream",
     "text": [
      "Enter your string: HEY, I AM HERE ..\n",
      "hey, i am here ..\n"
     ]
    }
   ],
   "source": [
    "# Example of converting a string to lowercase:\n",
    "my_string = str(input(\"Enter your string: \"))\n",
    "lowercase_string = my_string.lower()\n",
    "print(lowercase_string)  "
   ]
  },
  {
   "cell_type": "markdown",
   "id": "21115f1a",
   "metadata": {},
   "source": [
    "# Que. 34 How can you remove duplicates from a list in Python?"
   ]
  },
  {
   "cell_type": "raw",
   "id": "ff57cf84",
   "metadata": {},
   "source": [
    "We can use loop, set(), list comprehension, dict.fromkeys(), counter() to remove duplicates from a list.\n",
    "\n",
    "Will see the example here to remove duplicates from a list using the set() method and converting it back to a list to maintain the order:"
   ]
  },
  {
   "cell_type": "code",
   "execution_count": 22,
   "id": "05bc8b2a",
   "metadata": {},
   "outputs": [
    {
     "name": "stdout",
     "output_type": "stream",
     "text": [
      "[1, 2, 3, 4, 5]\n"
     ]
    }
   ],
   "source": [
    "# Removing duplicates from a list in Python\n",
    "my_list = [1, 2, 3, 2, 4, 3, 5]\n",
    "unique_list = list(set(my_list))\n",
    "print(unique_list)"
   ]
  },
  {
   "cell_type": "raw",
   "id": "59a39e83",
   "metadata": {},
   "source": [
    "The original list my_list contains duplicate elements.\n",
    "1. By converting my_list to a set using set(my_list), duplicates are automatically removed since sets cannot contain duplicate      elements.\n",
    "\n",
    "2. Converting the set back to a list using list(set(my_list)) ensures that the order of elements is maintained while removing      duplicates.\n",
    "\n",
    "3. The resulting unique_list will contain only unique elements from the original list.\n",
    "   Using the set() method is a simple and efficient way to remove duplicates from a list in Python."
   ]
  },
  {
   "cell_type": "markdown",
   "id": "3553da3c",
   "metadata": {},
   "source": [
    "# Que. 35 Explain the purpose of the ‘random’ module in Python?"
   ]
  },
  {
   "cell_type": "raw",
   "id": "4ab958fd",
   "metadata": {},
   "source": [
    "The 'random' module in Python is used to generate random numbers. It provides various functions for generating random numbers, choosing random elements, shuffling sequences, and more. This module is commonly used in applications like simulations, games, and cryptography where randomness is required."
   ]
  },
  {
   "cell_type": "code",
   "execution_count": 23,
   "id": "38f5774b",
   "metadata": {},
   "outputs": [
    {
     "name": "stdout",
     "output_type": "stream",
     "text": [
      "7\n"
     ]
    }
   ],
   "source": [
    "# Example\n",
    "\n",
    "import random\n",
    "\n",
    "# Generate a random integer between 1 and 10\n",
    "random_number = random.randint(1, 10)\n",
    "print(random_number)"
   ]
  },
  {
   "cell_type": "raw",
   "id": "4186d5ac",
   "metadata": {},
   "source": [
    "In this example, the random.randint() function from the 'random' module is used to generate a random integer between 1 and 10. By importing and utilizing functions from the 'random' module, Python programmers can introduce randomness into their programs effectively for various purposes."
   ]
  }
 ],
 "metadata": {
  "kernelspec": {
   "display_name": "Python 3 (ipykernel)",
   "language": "python",
   "name": "python3"
  },
  "language_info": {
   "codemirror_mode": {
    "name": "ipython",
    "version": 3
   },
   "file_extension": ".py",
   "mimetype": "text/x-python",
   "name": "python",
   "nbconvert_exporter": "python",
   "pygments_lexer": "ipython3",
   "version": "3.11.5"
  }
 },
 "nbformat": 4,
 "nbformat_minor": 5
}
